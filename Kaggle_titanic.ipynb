{
 "cells": [
  {
   "cell_type": "code",
   "execution_count": 289,
   "metadata": {},
   "outputs": [],
   "source": [
    "import pandas as pd\n",
    "from sklearn.model_selection import train_test_split\n",
    "from sklearn.linear_model import LogisticRegression\n",
    "from sklearn.ensemble import RandomForestClassifier\n",
    "from sklearn.neighbors import KNeighborsClassifier\n",
    "import xgboost as xgb\n",
    "from sklearn.metrics import accuracy_score\n",
    "import matplotlib.pyplot as plt\n",
    "import seaborn as sns"
   ]
  },
  {
   "cell_type": "code",
   "execution_count": 45,
   "metadata": {},
   "outputs": [],
   "source": [
    "X = pd.read_csv('train.csv', index_col='PassengerId')\n",
    "test = pd.read_csv('test.csv', index_col='PassengerId')\n",
    "y=X[['Survived']] ##"
   ]
  },
  {
   "cell_type": "code",
   "execution_count": 46,
   "metadata": {},
   "outputs": [],
   "source": [
    "X = X.drop(columns=['Survived', 'Name', 'Ticket', 'Cabin', 'Embarked'])\n",
    "test = test.drop(columns=['Name', 'Ticket', 'Cabin', 'Embarked'])\n",
    "\n",
    "X['Sex'] = (X['Sex'] == 'male').astype(int) #male is 1\n",
    "test['Sex'] = (test['Sex'] == 'male').astype(int)\n",
    "\n",
    "#X.head()\n",
    "#test.head()"
   ]
  },
  {
   "cell_type": "code",
   "execution_count": 47,
   "metadata": {},
   "outputs": [
    {
     "data": {
      "text/plain": [
       "Pclass     0\n",
       "Sex        0\n",
       "Age       86\n",
       "SibSp      0\n",
       "Parch      0\n",
       "Fare       0\n",
       "dtype: int64"
      ]
     },
     "execution_count": 47,
     "metadata": {},
     "output_type": "execute_result"
    }
   ],
   "source": [
    "#Checking for null values\n",
    "X.isnull().sum()\n",
    "test.isnull().sum()\n",
    "\n",
    "for index in test.index:\n",
    "    if pd.isna(test.loc[index, 'Fare']):\n",
    "        test.loc[index, 'Fare'] = test['Fare'].mean()\n"
   ]
  },
  {
   "cell_type": "code",
   "execution_count": 49,
   "metadata": {},
   "outputs": [
    {
     "name": "stdout",
     "output_type": "stream",
     "text": [
      "[31.39755838641189, 26.40707818930041, 32.17850287907869, 23.006062176165802]\n"
     ]
    }
   ],
   "source": [
    "#X.Age.median() #mean age is 29 median is 28 \n",
    "#for missing age if they have spouse \n",
    "num_sibsp_0 = 0\n",
    "total_sibsp_0 = 0\n",
    "\n",
    "num_sibsp_1 = 0\n",
    "total_sibsp_1 = 0\n",
    "\n",
    "num_parch_0 = 0\n",
    "total_parch_0 = 0\n",
    "\n",
    "num_parch_1 = 0\n",
    "total_parch_1 = 0\n",
    "\n",
    "for age, sibsp, parch in zip(X['Age'], X['SibSp'], X['Parch']):\n",
    "    if pd.isna(age):\n",
    "        continue\n",
    "\n",
    "    if sibsp == 0:\n",
    "        num_sibsp_0 += 1\n",
    "        total_sibsp_0 += age\n",
    "    else:\n",
    "        num_sibsp_1 += 1\n",
    "        total_sibsp_1 += age\n",
    "    \n",
    "    if parch == 0:\n",
    "        num_parch_0 += 1\n",
    "        total_parch_0 += age\n",
    "    else:\n",
    "        num_parch_1 +=1\n",
    "        total_parch_1 += age\n",
    "\n",
    "avg_sibsp_0 = total_sibsp_0/num_sibsp_0\n",
    "avg_sibsp_1 = total_sibsp_1/num_sibsp_1\n",
    "avg_parch_0 = total_parch_0/num_parch_0\n",
    "avg_parch_1 = total_parch_1/num_parch_1\n",
    "\n",
    "l = [avg_sibsp_0,avg_sibsp_1,avg_parch_0,avg_parch_1]\n",
    "\n",
    "print(l)"
   ]
  },
  {
   "cell_type": "code",
   "execution_count": 50,
   "metadata": {},
   "outputs": [
    {
     "name": "stdout",
     "output_type": "stream",
     "text": [
      "[133, 24, 4, 16]\n"
     ]
    }
   ],
   "source": [
    "#Finding which missing values are what\n",
    "\n",
    "both0 = 0\n",
    "p1s0 = 0\n",
    "p0s1 = 0\n",
    "both1 = 0\n",
    "\n",
    "for age, sibsp, parch in zip(X['Age'], X['SibSp'], X['Parch']):\n",
    "    if pd.isna(age):\n",
    "        #print(f'parch: {parch} sibsp: {sibsp}')\n",
    "        if parch == 0 and sibsp == 0:\n",
    "            both0 += 1\n",
    "        \n",
    "        if parch > 0 and sibsp == 0:\n",
    "            p1s0 += 1\n",
    "        \n",
    "        if parch == 0 and sibsp > 0:\n",
    "            p0s1 += 1\n",
    "        \n",
    "        if parch > 0 and sibsp > 0:\n",
    "            both1 += 1\n",
    "\n",
    "combos = [both0, p0s1, p1s0, both1]\n",
    "\n",
    "print(combos)\n",
    "    "
   ]
  },
  {
   "cell_type": "code",
   "execution_count": 54,
   "metadata": {},
   "outputs": [
    {
     "name": "stdout",
     "output_type": "stream",
     "text": [
      "Checking if that worked: \n",
      "Pclass    0\n",
      "Sex       0\n",
      "Age       0\n",
      "SibSp     0\n",
      "Parch     0\n",
      "Fare      0\n",
      "dtype: int64\n",
      "\n",
      "New mean and median age of the dataset: \n",
      "Mean: 29.7375645342312 \n",
      "Median: 30.0\n",
      "\n"
     ]
    },
    {
     "data": {
      "text/plain": [
       "Pclass    0\n",
       "Sex       0\n",
       "Age       0\n",
       "SibSp     0\n",
       "Parch     0\n",
       "Fare      0\n",
       "dtype: int64"
      ]
     },
     "execution_count": 54,
     "metadata": {},
     "output_type": "execute_result"
    }
   ],
   "source": [
    "#Replacing missing values\n",
    "\n",
    "#Both 0's should be older. Looking at the values it should be ~31.0\n",
    "#Both 1's should be younger. ~24.0\n",
    "#Mixed should be median of the data = 28.0\n",
    "\n",
    "for index in X.index:\n",
    "    if pd.isna(X.loc[index, 'Age']):\n",
    "        if X.loc[index, 'SibSp'] == 0 and X.loc[index, 'Parch'] == 0:\n",
    "            X.loc[index, 'Age'] = 31.0\n",
    "        elif X.loc[index, 'SibSp'] > 0 and X.loc[index, 'Parch'] > 0:\n",
    "            X.loc[index, 'Age'] = 24.0\n",
    "        else:\n",
    "            X.loc[index, 'Age'] = 28.0\n",
    "\n",
    "for index in test.index:\n",
    "    if pd.isna(test.loc[index, 'Age']):\n",
    "        if test.loc[index, 'SibSp'] == 0 and test.loc[index, 'Parch'] == 0:\n",
    "            test.loc[index, 'Age'] = 31.0\n",
    "        elif test.loc[index, 'SibSp'] > 0 and test.loc[index, 'Parch'] > 0:\n",
    "            test.loc[index, 'Age'] = 24.0\n",
    "        else:\n",
    "            test.loc[index, 'Age'] = 28.0\n",
    "\n",
    "print(f'Checking if that worked: \\n{X.isnull().sum()}\\n')\n",
    "\n",
    "print(f'New mean and median age of the dataset: \\nMean: {X['Age'].mean()} \\nMedian: {X['Age'].median()}\\n')"
   ]
  },
  {
   "cell_type": "code",
   "execution_count": 256,
   "metadata": {},
   "outputs": [
    {
     "name": "stdout",
     "output_type": "stream",
     "text": [
      "Xgboost: 0.8044692737430168\n",
      "\n",
      "Logistic regression: 0.8156424581005587\n",
      "\n",
      "Random forest: 0.776536312849162\n",
      "\n",
      "KNN: 0.6815642458100558\n",
      "\n"
     ]
    }
   ],
   "source": [
    "##Modeling\n",
    "X_train, X_valid, y_train, y_valid = train_test_split(X, y, train_size=0.8, test_size=0.2)\n",
    "\n",
    "\n",
    "def XGBoostModel(X_train=X_train, X_valid=X_valid, y_train=y_train, y_valid=y_valid) -> float:\n",
    "    xgb1 = xgb.XGBClassifier(eval_metric='logloss')\n",
    "\n",
    "    xgb1.fit(X_train, y_train.values.ravel())\n",
    "\n",
    "    xgb1_pred = xgb1.predict(X_valid)\n",
    "\n",
    "    xgb1_acc = accuracy_score(y_valid, xgb1_pred)\n",
    "    return xgb1_acc\n",
    "\n",
    "print(f'Xgboost: {XGBoostModel()}\\n')\n",
    "\n",
    "################################################\n",
    "\n",
    "def LogisticModel(X_train=X_train, X_valid=X_valid, y_train=y_train, y_valid=y_valid) -> float:\n",
    "    log1 = LogisticRegression(max_iter=1000)\n",
    "\n",
    "    log1.fit(X_train, y_train.values.ravel())\n",
    "\n",
    "    log1_pred = log1.predict(X_valid)\n",
    "\n",
    "    log1_acc = accuracy_score(y_valid, log1_pred)\n",
    "    return log1_acc\n",
    "\n",
    "print(f'Logistic regression: {LogisticModel()}\\n')\n",
    "\n",
    "################################################\n",
    "\n",
    "def RandomForestModel(X_train=X_train, X_valid=X_valid, y_train=y_train, y_valid=y_valid) -> float:\n",
    "    randf1 = RandomForestClassifier(n_estimators=100)\n",
    "\n",
    "    randf1.fit(X_train, y_train.values.ravel())\n",
    "\n",
    "    randf1_pred = randf1.predict(X_valid)\n",
    "\n",
    "    randf1_acc = accuracy_score(y_valid, randf1_pred)\n",
    "    return randf1_acc\n",
    "\n",
    "print(f'Random forest: {RandomForestModel()}\\n')\n",
    "\n",
    "################################################\n",
    "def KNNModel(X_train=X_train, X_valid=X_valid, y_train=y_train, y_valid=y_valid) -> float:\n",
    "    knn1 = KNeighborsClassifier(n_neighbors=5)\n",
    "\n",
    "    knn1.fit(X_train, y_train.values.ravel())\n",
    "\n",
    "    knn1_pred = knn1.predict(X_valid)\n",
    "\n",
    "    knn1_acc = accuracy_score(y_valid, knn1_pred)\n",
    "    return knn1_acc\n",
    "\n",
    "print(f'KNN: {KNNModel()}\\n')"
   ]
  },
  {
   "cell_type": "code",
   "execution_count": 261,
   "metadata": {},
   "outputs": [
    {
     "data": {
      "image/png": "[encoded data removed]",
      "text/plain": [
       "<Figure size 640x480 with 1 Axes>"
      ]
     },
     "metadata": {},
     "output_type": "display_data"
    }
   ],
   "source": [
    "XGB_avg = 0\n",
    "LR_avg = 0\n",
    "RF_avg = 0\n",
    "KNN_avg = 0\n",
    "\n",
    "for i in range(1, 50):\n",
    "    XGB_avg += XGBoostModel()\n",
    "    LR_avg += LogisticModel()\n",
    "    RF_avg += RandomForestModel()\n",
    "    KNN_avg += KNNModel()\n",
    "\n",
    "XGB_avg /= 50\n",
    "LR_avg /= 50\n",
    "RF_avg /= 50\n",
    "KNN_avg /= 50\n",
    "\n",
    "models = ['Xgboost', 'Logistic Regression', 'Random Forest', 'KNN']\n",
    "accuracy_scores = [XGB_avg, LR_avg, RF_avg, KNN_avg]\n",
    "\n",
    "plt.bar(models, accuracy_scores)\n",
    "plt.title('Model Vs Accuracy For Training Dataset')\n",
    "plt.xlabel('Model')\n",
    "plt.ylabel('Accuracy (50 iterations)')\n",
    "plt.show()"
   ]
  },
  {
   "cell_type": "code",
   "execution_count": 318,
   "metadata": {},
   "outputs": [],
   "source": [
    "#Use logistic model to predict the test results\n",
    "\n",
    "model = LogisticRegression(max_iter=1000)\n",
    "\n",
    "model.fit(X_train, y_train.values.ravel())\n",
    "\n",
    "pred = model.predict(test)\n",
    "\n",
    "final_df = {'PassengerId': test.index.tolist(), 'Survived': pred}\n",
    "\n",
    "final_df = pd.DataFrame.from_dict(final_df)\n",
    "\n",
    "final_df.set_index('PassengerId', inplace=True)\n",
    "\n",
    "final_df.to_csv('final_predictions.csv')"
   ]
  },
  {
   "cell_type": "code",
   "execution_count": 317,
   "metadata": {},
   "outputs": [
    {
     "name": "stdout",
     "output_type": "stream",
     "text": [
      "Index(['Pclass', 'Sex', 'Age', 'SibSp', 'Parch', 'Fare'], dtype='object')\n",
      "[[-1.06611643 -2.56406694 -0.03792372 -0.33442474 -0.11454814  0.00362406]]\n"
     ]
    },
    {
     "data": {
      "image/png": "[encoded data removed]",
      "text/plain": [
       "<Figure size 640x480 with 1 Axes>"
      ]
     },
     "metadata": {},
     "output_type": "display_data"
    }
   ],
   "source": [
    "print(test.columns)\n",
    "print(model.coef_)\n",
    "\n",
    "#since sex and pclass were the most dominant features plot them vs survival count\n",
    "age_data = {'Sex': test.Sex, 'Survived': pred}\n",
    "\n",
    "age_data = pd.DataFrame.from_dict(age_data)\n",
    "\n",
    "sns.countplot(x=age_data['Sex'].map({0: 'Female', 1: 'Male'}), hue=age_data['Survived'], palette=\"dark\")\n",
    "\n",
    "plt.xlabel('Sex')\n",
    "plt.ylabel('Count')\n",
    "plt.title('Survival Count vs Gender')\n",
    "\n",
    "plt.legend(title='Survived', labels=['No (0)', 'Yes (1)'])\n",
    "plt.show()"
   ]
  },
  {
   "cell_type": "code",
   "execution_count": 308,
   "metadata": {},
   "outputs": [
    {
     "data": {
      "image/png": "[encoded data removed]",
      "text/plain": [
       "<Figure size 640x480 with 1 Axes>"
      ]
     },
     "metadata": {},
     "output_type": "display_data"
    }
   ],
   "source": [
    "pclass_data = {'Pclass': test.Pclass, 'Survived': pred}\n",
    "\n",
    "pclass_data = pd.DataFrame.from_dict(pclass_data)\n",
    "\n",
    "sns.countplot(x=pclass_data['Pclass'].map({1: '1st', 2: '2nd', 3: '3rd'}), hue=pclass_data['Survived'], palette=\"dark\")\n",
    "\n",
    "plt.xlabel('Ticket Class')\n",
    "plt.ylabel('Count')\n",
    "plt.title('Survival Count vs Ticket Class')\n",
    "\n",
    "plt.legend(title='Survived', labels=['No (0)', 'Yes (1)'])\n",
    "plt.show()"
   ]
  }
 ],
 "metadata": {
  "kernelspec": {
   "display_name": "Python 3",
   "language": "python",
   "name": "python3"
  },
  "language_info": {
   "codemirror_mode": {
    "name": "ipython",
    "version": 3
   },
   "file_extension": ".py",
   "mimetype": "text/x-python",
   "name": "python",
   "nbconvert_exporter": "python",
   "pygments_lexer": "ipython3",
   "version": "3.12.2"
  },
  "orig_nbformat": 4
 },
 "nbformat": 4,
 "nbformat_minor": 2
}
