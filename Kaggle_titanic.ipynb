{
 "cells": [
  {
   "cell_type": "code",
   "execution_count": 31,
   "metadata": {},
   "outputs": [],
   "source": [
    "import pandas as pd\n",
    "from sklearn.model_selection import train_test_split\n",
    "from sklearn.linear_model import LogisticRegression\n",
    "from sklearn.ensemble import RandomForestClassifier\n",
    "from sklearn.neighbors import KNeighborsClassifier\n",
    "from sklearn.preprocessing import OneHotEncoder\n",
    "import xgboost as xgb\n",
    "from sklearn.metrics import accuracy_score\n",
    "import matplotlib.pyplot as plt\n",
    "import seaborn as sns"
   ]
  },
  {
   "cell_type": "code",
   "execution_count": 45,
   "metadata": {},
   "outputs": [],
   "source": [
    "X = pd.read_csv('train.csv', index_col='PassengerId')\n",
    "test = pd.read_csv('test.csv', index_col='PassengerId')\n",
    "y=X[['Survived']] ##"
   ]
  },
  {
   "cell_type": "code",
   "execution_count": 46,
   "metadata": {},
   "outputs": [
    {
     "data": {
      "text/plain": [
       "Embarked    0\n",
       "dtype: int64"
      ]
     },
     "execution_count": 46,
     "metadata": {},
     "output_type": "execute_result"
    }
   ],
   "source": [
    "embarked_df = X[['Embarked']] ##\n",
    "X = X.drop(columns=['Survived', 'Name', 'Ticket', 'Cabin', 'Embarked'])\n",
    "test = test.drop(columns=['Name', 'Ticket', 'Cabin'])\n",
    "\n",
    "\n",
    "\n",
    "X['Sex'] = (X['Sex'] == 'male').astype(int) #male is 1\n",
    "test['Sex'] = (test['Sex'] == 'male').astype(int)\n",
    "\n",
    "#X.head()\n",
    "#test.head()\n",
    "#embarked_df.isnull().sum()\n",
    "\n",
    "for index in embarked_df.index:\n",
    "    if pd.isna(embarked_df.loc[index, 'Embarked']):\n",
    "        embarked_df.loc[index, 'Embarked'] = 'S'\n",
    "\n",
    "#embarked_df.isnull().sum()"
   ]
  },
  {
   "cell_type": "code",
   "execution_count": 47,
   "metadata": {},
   "outputs": [],
   "source": [
    "#Checking for null values\n",
    "X.isnull().sum()\n",
    "test.isnull().sum()\n",
    "\n",
    "for index in test.index:\n",
    "    if pd.isna(test.loc[index, 'Fare']):\n",
    "        test.loc[index, 'Fare'] = test['Fare'].mean()\n"
   ]
  },
  {
   "cell_type": "code",
   "execution_count": 64,
   "metadata": {},
   "outputs": [
    {
     "data": {
      "text/plain": [
       "Pclass        0\n",
       "Sex           0\n",
       "Age           0\n",
       "SibSp         0\n",
       "Parch         0\n",
       "Fare          0\n",
       "Embarked_C    0\n",
       "Embarked_Q    0\n",
       "Embarked_S    0\n",
       "dtype: int64"
      ]
     },
     "execution_count": 64,
     "metadata": {},
     "output_type": "execute_result"
    }
   ],
   "source": [
    "#One hot encoding where the passengers embarked\n",
    "\n",
    "encoder = OneHotEncoder()\n",
    "encoded_embarked = encoder.fit_transform(embarked_df[['Embarked']])\n",
    "\n",
    "encoded_df = pd.DataFrame(encoded_embarked.toarray(), columns=encoder.get_feature_names_out(['Embarked']))\n",
    "\n",
    "X = X.join(encoded_df)\n",
    "\n",
    "#X.head()\n",
    "\n",
    "X = X.drop(891)\n",
    "y = y.drop(891)\n",
    "\n",
    "X.isnull().sum()"
   ]
  },
  {
   "cell_type": "code",
   "execution_count": 6,
   "metadata": {},
   "outputs": [
    {
     "name": "stdout",
     "output_type": "stream",
     "text": [
      "[31.39755838641189, 26.40707818930041, 32.17850287907869, 23.006062176165802]\n"
     ]
    }
   ],
   "source": [
    "#X.Age.median() #mean age is 29 median is 28 \n",
    "#for missing age if they have spouse \n",
    "num_sibsp_0 = 0\n",
    "total_sibsp_0 = 0\n",
    "\n",
    "num_sibsp_1 = 0\n",
    "total_sibsp_1 = 0\n",
    "\n",
    "num_parch_0 = 0\n",
    "total_parch_0 = 0\n",
    "\n",
    "num_parch_1 = 0\n",
    "total_parch_1 = 0\n",
    "\n",
    "for age, sibsp, parch in zip(X['Age'], X['SibSp'], X['Parch']):\n",
    "    if pd.isna(age):\n",
    "        continue\n",
    "\n",
    "    if sibsp == 0:\n",
    "        num_sibsp_0 += 1\n",
    "        total_sibsp_0 += age\n",
    "    else:\n",
    "        num_sibsp_1 += 1\n",
    "        total_sibsp_1 += age\n",
    "    \n",
    "    if parch == 0:\n",
    "        num_parch_0 += 1\n",
    "        total_parch_0 += age\n",
    "    else:\n",
    "        num_parch_1 +=1\n",
    "        total_parch_1 += age\n",
    "\n",
    "avg_sibsp_0 = total_sibsp_0/num_sibsp_0\n",
    "avg_sibsp_1 = total_sibsp_1/num_sibsp_1\n",
    "avg_parch_0 = total_parch_0/num_parch_0\n",
    "avg_parch_1 = total_parch_1/num_parch_1\n",
    "\n",
    "l = [avg_sibsp_0,avg_sibsp_1,avg_parch_0,avg_parch_1]\n",
    "\n",
    "print(l)"
   ]
  },
  {
   "cell_type": "code",
   "execution_count": 49,
   "metadata": {},
   "outputs": [
    {
     "name": "stdout",
     "output_type": "stream",
     "text": [
      "[133, 24, 4, 16]\n"
     ]
    }
   ],
   "source": [
    "#Finding which missing values are what\n",
    "\n",
    "both0 = 0\n",
    "p1s0 = 0\n",
    "p0s1 = 0\n",
    "both1 = 0\n",
    "\n",
    "for age, sibsp, parch in zip(X['Age'], X['SibSp'], X['Parch']):\n",
    "    if pd.isna(age):\n",
    "        #print(f'parch: {parch} sibsp: {sibsp}')\n",
    "        if parch == 0 and sibsp == 0:\n",
    "            both0 += 1\n",
    "        \n",
    "        if parch > 0 and sibsp == 0:\n",
    "            p1s0 += 1\n",
    "        \n",
    "        if parch == 0 and sibsp > 0:\n",
    "            p0s1 += 1\n",
    "        \n",
    "        if parch > 0 and sibsp > 0:\n",
    "            both1 += 1\n",
    "\n",
    "combos = [both0, p0s1, p1s0, both1]\n",
    "\n",
    "print(combos)\n",
    "    "
   ]
  },
  {
   "cell_type": "code",
   "execution_count": 65,
   "metadata": {},
   "outputs": [
    {
     "name": "stdout",
     "output_type": "stream",
     "text": [
      "Checking if that worked: \n",
      "Pclass        0\n",
      "Sex           0\n",
      "Age           0\n",
      "SibSp         0\n",
      "Parch         0\n",
      "Fare          0\n",
      "Embarked_C    0\n",
      "Embarked_Q    0\n",
      "Embarked_S    0\n",
      "dtype: int64\n",
      "\n",
      "New mean and median age of the dataset: \n",
      "Mean: 29.73502247191011 \n",
      "Median: 30.0\n",
      "\n"
     ]
    }
   ],
   "source": [
    "#Replacing missing values\n",
    "\n",
    "#Both 0's should be older. Looking at the values it should be ~31.0\n",
    "#Both 1's should be younger. ~24.0\n",
    "#Mixed should be median of the data = 28.0\n",
    "\n",
    "for index in X.index:\n",
    "    if pd.isna(X.loc[index, 'Age']):\n",
    "        if X.loc[index, 'SibSp'] == 0 and X.loc[index, 'Parch'] == 0:\n",
    "            X.loc[index, 'Age'] = 31.0\n",
    "        elif X.loc[index, 'SibSp'] > 0 and X.loc[index, 'Parch'] > 0:\n",
    "            X.loc[index, 'Age'] = 24.0\n",
    "        else:\n",
    "            X.loc[index, 'Age'] = 28.0\n",
    "\n",
    "for index in test.index:\n",
    "    if pd.isna(test.loc[index, 'Age']):\n",
    "        if test.loc[index, 'SibSp'] == 0 and test.loc[index, 'Parch'] == 0:\n",
    "            test.loc[index, 'Age'] = 31.0\n",
    "        elif test.loc[index, 'SibSp'] > 0 and test.loc[index, 'Parch'] > 0:\n",
    "            test.loc[index, 'Age'] = 24.0\n",
    "        else:\n",
    "            test.loc[index, 'Age'] = 28.0\n",
    "\n",
    "print(f'Checking if that worked: \\n{X.isnull().sum()}\\n')\n",
    "\n",
    "print(f'New mean and median age of the dataset: \\nMean: {X['Age'].mean()} \\nMedian: {X['Age'].median()}\\n')"
   ]
  },
  {
   "cell_type": "code",
   "execution_count": 81,
   "metadata": {},
   "outputs": [
    {
     "name": "stdout",
     "output_type": "stream",
     "text": [
      "Xgboost: 0.8089887640449438\n",
      "\n",
      "Logistic regression: 0.7808988764044944\n",
      "\n",
      "Random forest: 0.8202247191011236\n",
      "\n",
      "KNN: 0.7415730337078652\n",
      "\n"
     ]
    }
   ],
   "source": [
    "##Modeling\n",
    "X_train, X_valid, y_train, y_valid = train_test_split(X, y, train_size=0.8, test_size=0.2)\n",
    "\n",
    "\n",
    "def XGBoostModel(X_train=X_train, X_valid=X_valid, y_train=y_train, y_valid=y_valid) -> float:\n",
    "    xgb1 = xgb.XGBClassifier(eval_metric='logloss')\n",
    "\n",
    "    xgb1.fit(X_train, y_train.values.ravel())\n",
    "\n",
    "    xgb1_pred = xgb1.predict(X_valid)\n",
    "\n",
    "    xgb1_acc = accuracy_score(y_valid, xgb1_pred)\n",
    "    return xgb1_acc\n",
    "\n",
    "print(f'Xgboost: {XGBoostModel()}\\n')\n",
    "\n",
    "################################################\n",
    "\n",
    "def LogisticModel(X_train=X_train, X_valid=X_valid, y_train=y_train, y_valid=y_valid) -> float:\n",
    "    log1 = LogisticRegression(max_iter=1000)\n",
    "\n",
    "    log1.fit(X_train, y_train.values.ravel())\n",
    "\n",
    "    log1_pred = log1.predict(X_valid)\n",
    "\n",
    "    log1_acc = accuracy_score(y_valid, log1_pred)\n",
    "    return log1_acc\n",
    "\n",
    "print(f'Logistic regression: {LogisticModel()}\\n')\n",
    "\n",
    "################################################\n",
    "\n",
    "def RandomForestModel(X_train=X_train, X_valid=X_valid, y_train=y_train, y_valid=y_valid) -> float:\n",
    "    randf1 = RandomForestClassifier(n_estimators=100)\n",
    "\n",
    "    randf1.fit(X_train, y_train.values.ravel())\n",
    "\n",
    "    randf1_pred = randf1.predict(X_valid)\n",
    "\n",
    "    randf1_acc = accuracy_score(y_valid, randf1_pred)\n",
    "    return randf1_acc\n",
    "\n",
    "print(f'Random forest: {RandomForestModel()}\\n')\n",
    "\n",
    "################################################\n",
    "def KNNModel(X_train=X_train, X_valid=X_valid, y_train=y_train, y_valid=y_valid) -> float:\n",
    "    knn1 = KNeighborsClassifier(n_neighbors=5)\n",
    "\n",
    "    knn1.fit(X_train, y_train.values.ravel())\n",
    "\n",
    "    knn1_pred = knn1.predict(X_valid)\n",
    "\n",
    "    knn1_acc = accuracy_score(y_valid, knn1_pred)\n",
    "    return knn1_acc\n",
    "\n",
    "print(f'KNN: {KNNModel()}\\n')"
   ]
  },
  {
   "cell_type": "code",
   "execution_count": 83,
   "metadata": {},
   "outputs": [
    {
     "data": {
      "image/png": "[encoded data removed]",
      "text/plain": [
       "<Figure size 640x480 with 1 Axes>"
      ]
     },
     "metadata": {},
     "output_type": "display_data"
    }
   ],
   "source": [
    "XGB_avg = 0\n",
    "LR_avg = 0\n",
    "RF_avg = 0\n",
    "KNN_avg = 0\n",
    "\n",
    "for i in range(1, 50):\n",
    "    XGB_avg += XGBoostModel()\n",
    "    LR_avg += LogisticModel()\n",
    "    RF_avg += RandomForestModel()\n",
    "    KNN_avg += KNNModel()\n",
    "\n",
    "XGB_avg /= 50\n",
    "LR_avg /= 50\n",
    "RF_avg /= 50\n",
    "KNN_avg /= 50\n",
    "\n",
    "models = ['Xgboost', 'Logistic Regression', 'Random Forest', 'KNN']\n",
    "accuracy_scores = [XGB_avg, LR_avg, RF_avg, KNN_avg]\n",
    "\n",
    "plt.bar(models, accuracy_scores)\n",
    "plt.title('Model Vs Accuracy For Training Dataset')\n",
    "plt.xlabel('Model')\n",
    "plt.ylabel('Accuracy (50 iterations)')\n",
    "plt.show()"
   ]
  },
  {
   "cell_type": "code",
   "execution_count": 84,
   "metadata": {},
   "outputs": [
    {
     "ename": "ValueError",
     "evalue": "The feature names should match those that were passed during fit.\nFeature names unseen at fit time:\n- Embarked\nFeature names seen at fit time, yet now missing:\n- Embarked_C\n- Embarked_Q\n- Embarked_S\n",
     "output_type": "error",
     "traceback": [
      "\u001b[0;31m---------------------------------------------------------------------------\u001b[0m",
      "\u001b[0;31mValueError\u001b[0m                                Traceback (most recent call last)",
      "Cell \u001b[0;32mIn[84], line 7\u001b[0m\n\u001b[1;32m      3\u001b[0m model \u001b[39m=\u001b[39m LogisticRegression(max_iter\u001b[39m=\u001b[39m\u001b[39m1000\u001b[39m)\n\u001b[1;32m      5\u001b[0m model\u001b[39m.\u001b[39mfit(X_train, y_train\u001b[39m.\u001b[39mvalues\u001b[39m.\u001b[39mravel())\n\u001b[0;32m----> 7\u001b[0m pred \u001b[39m=\u001b[39m model\u001b[39m.\u001b[39mpredict(test)\n\u001b[1;32m      9\u001b[0m final_df \u001b[39m=\u001b[39m {\u001b[39m'\u001b[39m\u001b[39mPassengerId\u001b[39m\u001b[39m'\u001b[39m: test\u001b[39m.\u001b[39mindex\u001b[39m.\u001b[39mtolist(), \u001b[39m'\u001b[39m\u001b[39mSurvived\u001b[39m\u001b[39m'\u001b[39m: pred}\n\u001b[1;32m     11\u001b[0m final_df \u001b[39m=\u001b[39m pd\u001b[39m.\u001b[39mDataFrame\u001b[39m.\u001b[39mfrom_dict(final_df)\n",
      "File \u001b[0;32m~/miniconda3/lib/python3.12/site-packages/sklearn/linear_model/_base.py:351\u001b[0m, in \u001b[0;36mLinearClassifierMixin.predict\u001b[0;34m(self, X)\u001b[0m\n\u001b[1;32m    337\u001b[0m \u001b[39m\u001b[39m\u001b[39m\"\"\"\u001b[39;00m\n\u001b[1;32m    338\u001b[0m \u001b[39mPredict class labels for samples in X.\u001b[39;00m\n\u001b[1;32m    339\u001b[0m \n\u001b[0;32m   (...)\u001b[0m\n\u001b[1;32m    348\u001b[0m \u001b[39m    Vector containing the class labels for each sample.\u001b[39;00m\n\u001b[1;32m    349\u001b[0m \u001b[39m\"\"\"\u001b[39;00m\n\u001b[1;32m    350\u001b[0m xp, _ \u001b[39m=\u001b[39m get_namespace(X)\n\u001b[0;32m--> 351\u001b[0m scores \u001b[39m=\u001b[39m \u001b[39mself\u001b[39m\u001b[39m.\u001b[39mdecision_function(X)\n\u001b[1;32m    352\u001b[0m \u001b[39mif\u001b[39;00m \u001b[39mlen\u001b[39m(scores\u001b[39m.\u001b[39mshape) \u001b[39m==\u001b[39m \u001b[39m1\u001b[39m:\n\u001b[1;32m    353\u001b[0m     indices \u001b[39m=\u001b[39m xp\u001b[39m.\u001b[39mastype(scores \u001b[39m>\u001b[39m \u001b[39m0\u001b[39m, \u001b[39mint\u001b[39m)\n",
      "File \u001b[0;32m~/miniconda3/lib/python3.12/site-packages/sklearn/linear_model/_base.py:332\u001b[0m, in \u001b[0;36mLinearClassifierMixin.decision_function\u001b[0;34m(self, X)\u001b[0m\n\u001b[1;32m    329\u001b[0m check_is_fitted(\u001b[39mself\u001b[39m)\n\u001b[1;32m    330\u001b[0m xp, _ \u001b[39m=\u001b[39m get_namespace(X)\n\u001b[0;32m--> 332\u001b[0m X \u001b[39m=\u001b[39m \u001b[39mself\u001b[39m\u001b[39m.\u001b[39m_validate_data(X, accept_sparse\u001b[39m=\u001b[39m\u001b[39m\"\u001b[39m\u001b[39mcsr\u001b[39m\u001b[39m\"\u001b[39m, reset\u001b[39m=\u001b[39m\u001b[39mFalse\u001b[39;00m)\n\u001b[1;32m    333\u001b[0m scores \u001b[39m=\u001b[39m safe_sparse_dot(X, \u001b[39mself\u001b[39m\u001b[39m.\u001b[39mcoef_\u001b[39m.\u001b[39mT, dense_output\u001b[39m=\u001b[39m\u001b[39mTrue\u001b[39;00m) \u001b[39m+\u001b[39m \u001b[39mself\u001b[39m\u001b[39m.\u001b[39mintercept_\n\u001b[1;32m    334\u001b[0m \u001b[39mreturn\u001b[39;00m xp\u001b[39m.\u001b[39mreshape(scores, (\u001b[39m-\u001b[39m\u001b[39m1\u001b[39m,)) \u001b[39mif\u001b[39;00m scores\u001b[39m.\u001b[39mshape[\u001b[39m1\u001b[39m] \u001b[39m==\u001b[39m \u001b[39m1\u001b[39m \u001b[39melse\u001b[39;00m scores\n",
      "File \u001b[0;32m~/miniconda3/lib/python3.12/site-packages/sklearn/base.py:608\u001b[0m, in \u001b[0;36mBaseEstimator._validate_data\u001b[0;34m(self, X, y, reset, validate_separately, cast_to_ndarray, **check_params)\u001b[0m\n\u001b[1;32m    537\u001b[0m \u001b[39mdef\u001b[39;00m \u001b[39m_validate_data\u001b[39m(\n\u001b[1;32m    538\u001b[0m     \u001b[39mself\u001b[39m,\n\u001b[1;32m    539\u001b[0m     X\u001b[39m=\u001b[39m\u001b[39m\"\u001b[39m\u001b[39mno_validation\u001b[39m\u001b[39m\"\u001b[39m,\n\u001b[0;32m   (...)\u001b[0m\n\u001b[1;32m    544\u001b[0m     \u001b[39m*\u001b[39m\u001b[39m*\u001b[39mcheck_params,\n\u001b[1;32m    545\u001b[0m ):\n\u001b[1;32m    546\u001b[0m \u001b[39m    \u001b[39m\u001b[39m\"\"\"Validate input data and set or check the `n_features_in_` attribute.\u001b[39;00m\n\u001b[1;32m    547\u001b[0m \n\u001b[1;32m    548\u001b[0m \u001b[39m    Parameters\u001b[39;00m\n\u001b[0;32m   (...)\u001b[0m\n\u001b[1;32m    606\u001b[0m \u001b[39m        validated.\u001b[39;00m\n\u001b[1;32m    607\u001b[0m \u001b[39m    \"\"\"\u001b[39;00m\n\u001b[0;32m--> 608\u001b[0m     \u001b[39mself\u001b[39m\u001b[39m.\u001b[39m_check_feature_names(X, reset\u001b[39m=\u001b[39mreset)\n\u001b[1;32m    610\u001b[0m     \u001b[39mif\u001b[39;00m y \u001b[39mis\u001b[39;00m \u001b[39mNone\u001b[39;00m \u001b[39mand\u001b[39;00m \u001b[39mself\u001b[39m\u001b[39m.\u001b[39m_get_tags()[\u001b[39m\"\u001b[39m\u001b[39mrequires_y\u001b[39m\u001b[39m\"\u001b[39m]:\n\u001b[1;32m    611\u001b[0m         \u001b[39mraise\u001b[39;00m \u001b[39mValueError\u001b[39;00m(\n\u001b[1;32m    612\u001b[0m             \u001b[39mf\u001b[39m\u001b[39m\"\u001b[39m\u001b[39mThis \u001b[39m\u001b[39m{\u001b[39;00m\u001b[39mself\u001b[39m\u001b[39m.\u001b[39m\u001b[39m__class__\u001b[39m\u001b[39m.\u001b[39m\u001b[39m__name__\u001b[39m\u001b[39m}\u001b[39;00m\u001b[39m estimator \u001b[39m\u001b[39m\"\u001b[39m\n\u001b[1;32m    613\u001b[0m             \u001b[39m\"\u001b[39m\u001b[39mrequires y to be passed, but the target y is None.\u001b[39m\u001b[39m\"\u001b[39m\n\u001b[1;32m    614\u001b[0m         )\n",
      "File \u001b[0;32m~/miniconda3/lib/python3.12/site-packages/sklearn/base.py:535\u001b[0m, in \u001b[0;36mBaseEstimator._check_feature_names\u001b[0;34m(self, X, reset)\u001b[0m\n\u001b[1;32m    530\u001b[0m \u001b[39mif\u001b[39;00m \u001b[39mnot\u001b[39;00m missing_names \u001b[39mand\u001b[39;00m \u001b[39mnot\u001b[39;00m unexpected_names:\n\u001b[1;32m    531\u001b[0m     message \u001b[39m+\u001b[39m\u001b[39m=\u001b[39m (\n\u001b[1;32m    532\u001b[0m         \u001b[39m\"\u001b[39m\u001b[39mFeature names must be in the same order as they were in fit.\u001b[39m\u001b[39m\\n\u001b[39;00m\u001b[39m\"\u001b[39m\n\u001b[1;32m    533\u001b[0m     )\n\u001b[0;32m--> 535\u001b[0m \u001b[39mraise\u001b[39;00m \u001b[39mValueError\u001b[39;00m(message)\n",
      "\u001b[0;31mValueError\u001b[0m: The feature names should match those that were passed during fit.\nFeature names unseen at fit time:\n- Embarked\nFeature names seen at fit time, yet now missing:\n- Embarked_C\n- Embarked_Q\n- Embarked_S\n"
     ]
    }
   ],
   "source": [
    "#Use logistic model to predict the test results\n",
    "\n",
    "##Need to change the testing dataset to include the hot encoding\n",
    "\n",
    "model = LogisticRegression(max_iter=1000)\n",
    "\n",
    "model.fit(X_train, y_train.values.ravel())\n",
    "\n",
    "pred = model.predict(test)\n",
    "\n",
    "final_df = {'PassengerId': test.index.tolist(), 'Survived': pred}\n",
    "\n",
    "final_df = pd.DataFrame.from_dict(final_df)\n",
    "\n",
    "final_df.set_index('PassengerId', inplace=True)\n",
    "\n",
    "final_df.to_csv('final_predictions.csv')"
   ]
  },
  {
   "cell_type": "code",
   "execution_count": 20,
   "metadata": {},
   "outputs": [
    {
     "name": "stdout",
     "output_type": "stream",
     "text": [
      "Index(['Pclass', 'Sex', 'Age', 'SibSp', 'Parch', 'Fare'], dtype='object')\n",
      "[[-1.10058707e+00 -2.74639069e+00 -3.30951398e-02 -3.11016661e-01\n",
      "  -1.37598013e-01  2.43688204e-03]]\n"
     ]
    },
    {
     "data": {
      "image/png": "[encoded data removed]",
      "text/plain": [
       "<Figure size 640x480 with 1 Axes>"
      ]
     },
     "metadata": {},
     "output_type": "display_data"
    }
   ],
   "source": [
    "print(test.columns)\n",
    "print(model.coef_)\n",
    "\n",
    "#since sex and pclass were the most dominant features plot them vs survival count\n",
    "age_data = {'Sex': test.Sex, 'Survived': pred}\n",
    "\n",
    "age_data = pd.DataFrame.from_dict(age_data)\n",
    "\n",
    "sns.countplot(x=age_data['Sex'].map({0: 'Female', 1: 'Male'}), hue=age_data['Survived'], palette=\"dark\")\n",
    "\n",
    "plt.xlabel('Sex')\n",
    "plt.ylabel('Count')\n",
    "plt.title('Survival Count vs Gender')\n",
    "\n",
    "plt.legend(title='Survived', labels=['No (0)', 'Yes (1)'])\n",
    "plt.show()"
   ]
  },
  {
   "cell_type": "code",
   "execution_count": 19,
   "metadata": {},
   "outputs": [
    {
     "data": {
      "image/png": "[encoded data removed]",
      "text/plain": [
       "<Figure size 640x480 with 1 Axes>"
      ]
     },
     "metadata": {},
     "output_type": "display_data"
    }
   ],
   "source": [
    "pclass_data = {'Pclass': test.Pclass, 'Survived': pred}\n",
    "\n",
    "pclass_data = pd.DataFrame.from_dict(pclass_data)\n",
    "\n",
    "sns.countplot(x=pclass_data['Pclass'].map({1: '1st', 2: '2nd', 3: '3rd'}), hue=pclass_data['Survived'], palette=\"dark\")\n",
    "\n",
    "plt.xlabel('Ticket Class')\n",
    "plt.ylabel('Count')\n",
    "plt.title('Survival Count vs Ticket Class')\n",
    "\n",
    "plt.legend(title='Survived', labels=['No (0)', 'Yes (1)'])\n",
    "plt.show()"
   ]
  }
 ],
 "metadata": {
  "kernelspec": {
   "display_name": "Python 3",
   "language": "python",
   "name": "python3"
  },
  "language_info": {
   "codemirror_mode": {
    "name": "ipython",
    "version": 3
   },
   "file_extension": ".py",
   "mimetype": "text/x-python",
   "name": "python",
   "nbconvert_exporter": "python",
   "pygments_lexer": "ipython3",
   "version": "3.12.2"
  },
  "orig_nbformat": 4
 },
 "nbformat": 4,
 "nbformat_minor": 2
}
